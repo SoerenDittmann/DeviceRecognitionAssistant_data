{
 "cells": [
  {
   "cell_type": "code",
   "execution_count": 1,
   "metadata": {},
   "outputs": [],
   "source": [
    "import numpy as np\n",
    "import pandas as pd\n",
    "import scipy.io\n",
    "import psycopg2\n",
    "import os"
   ]
  },
  {
   "cell_type": "code",
   "execution_count": 2,
   "metadata": {},
   "outputs": [
    {
     "name": "stdout",
     "output_type": "stream",
     "text": [
      "         smcAC     smcDC  vib_table  vib_spindle  AE_table  AE_spindle\n",
      "0    -0.017090  0.625000   0.078125     0.314941  0.087280    0.103760\n",
      "1     0.263672  0.810547   0.085449     0.301514  0.098267    0.123291\n",
      "2     0.207520  0.781250   0.078125     0.303955  0.092163    0.104980\n",
      "3     0.302734  0.849609   0.073242     0.300293  0.095215    0.111084\n",
      "4     0.239258  1.098633   0.083008     0.299072  0.083008    0.092163\n",
      "...        ...       ...        ...          ...       ...         ...\n",
      "8995 -0.656738  1.630859   0.080566     0.308838  0.080566    0.087891\n",
      "8996 -0.869141  1.625977   0.083008     0.314941  0.085449    0.097656\n",
      "8997 -0.808105  1.381836   0.275879     0.312500  0.101318    0.106812\n",
      "8998 -0.732422  1.303711   0.522461     0.317383  0.127563    0.112305\n",
      "8999 -0.576172  1.528320   0.378418     0.311279  0.123291    0.134277\n",
      "\n",
      "[9000 rows x 6 columns]\n"
     ]
    }
   ],
   "source": [
    "#Get current working directory\n",
    "cwd = os.getcwd()\n",
    "#Build overall path\n",
    "path1 = os.path.join(cwd,r'mill.mat')\n",
    "#Load .mat file. Output = dictionary\n",
    "mill = scipy.io.loadmat(path1, squeeze_me=True)['mill'] # select only use-data, exclude matlab meta data\n",
    "mill_exp1 = mill[0] #select desired experiment run\n",
    "#case = 1\n",
    "#run = 1\n",
    "#flank wear = 0\n",
    "#time = 2\n",
    "#depth of cut = 1.5\n",
    "#feed = 0.5\n",
    "#material = 1\n",
    "array_mill_exp1 = np.concatenate((mill_exp1[7],mill_exp1[8],mill_exp1[9],mill_exp1[10],mill_exp1[11],mill_exp1[12]))\n",
    "array_mill_exp1 = array_mill_exp1.reshape((9000,6),order='F')\n",
    "labels = ['smcAC','smcDC','vib_table','vib_spindle','AE_table','AE_spindle']\n",
    "df_mill_exp1 = pd.DataFrame(data=array_mill_exp1, columns=labels)\n",
    "print(df_mill_exp1)"
   ]
  },
  {
   "cell_type": "code",
   "execution_count": 3,
   "metadata": {},
   "outputs": [],
   "source": [
    "    import psycopg2\n",
    "    from io import StringIO\n",
    "\n",
    "    # Connection parameters\n",
    "    param_dic = {\n",
    "        \"host\"      : \"localhost\",\n",
    "        \"database\"  : \"sensordata\",\n",
    "        \"user\"      : \"postgres\",\n",
    "        \"password\"  : \"JNt8hSW4l+MJ]p;.g[WG\"\n",
    "    }\n",
    "\n",
    "    #Credit to Naysan Saran. https://naysan.ca/2020/06/21/pandas-to-postgresql-using-psycopg2-copy_from/\n",
    "\n",
    "    def connect(params_dic):\n",
    "        \"\"\" Connect to the PostgreSQL database server \"\"\"\n",
    "        conn = None\n",
    "        try:\n",
    "            # connect to the PostgreSQL server\n",
    "            print('Connecting to the PostgreSQL database...')\n",
    "            conn = psycopg2.connect(**params_dic)\n",
    "        except (Exception, psycopg2.DatabaseError) as error:\n",
    "            print(error)\n",
    "            sys.exit(1) \n",
    "        print(\"Connection successful\")\n",
    "        return conn\n",
    "\n",
    "\n",
    "    def copy_from_stringio(conn, df, table):\n",
    "        \"\"\"\n",
    "        Here we are going save the dataframe in memory \n",
    "        and use copy_from() to copy it to the table\n",
    "        \"\"\"\n",
    "        # save dataframe to an in memory buffer\n",
    "        buffer = StringIO()\n",
    "        df.to_csv(buffer, index_label='id', header=False)\n",
    "        buffer.seek(0)\n",
    "\n",
    "        cursor = conn.cursor()\n",
    "        try:\n",
    "            cursor.copy_from(buffer, table, sep=\",\")\n",
    "            conn.commit()\n",
    "        except (Exception, psycopg2.DatabaseError) as error:\n",
    "\n",
    "            print(\"Error: %s\" % error)\n",
    "            conn.rollback()\n",
    "            cursor.close()\n",
    "            return 1\n",
    "        print(\"copy_from_stringio() done\")\n",
    "        cursor.close()"
   ]
  },
  {
   "cell_type": "code",
   "execution_count": 4,
   "metadata": {},
   "outputs": [
    {
     "name": "stdout",
     "output_type": "stream",
     "text": [
      "Connecting to the PostgreSQL database...\n",
      "Connection successful\n",
      "CREATE TABLE MillingNASA (id int, smcAC decimal, smcDC decimal, vib_table decimal, vib_spindle decimal, AE_table decimal, AE_spindle decimal);\n",
      "copy_from_stringio() done\n"
     ]
    }
   ],
   "source": [
    "conn = connect(param_dic) # connect to the database\n",
    "cursor = conn.cursor() # set cursor\n",
    "\n",
    "# CREATE TABLE\n",
    "list1 = list(df_mill_exp1.keys()) #use column labels for SQL query\n",
    "string1 = \"CREATE TABLE MillingNASA (id int\"\n",
    "for label in list1:\n",
    "    string1 += (\", \" + label + \" decimal\")\n",
    "string1 = string1 + \");\"\n",
    "print(string1)\n",
    "cursor.execute(string1) #execute SQL query\n",
    "\n",
    "copy_from_stringio(conn, df_mill_exp1, \"MillingNASA\") # copy the dataframe to SQL\n",
    "conn.close() # close the connection"
   ]
  }
 ],
 "metadata": {
  "kernelspec": {
   "display_name": "Python 3",
   "language": "python",
   "name": "python3"
  },
  "language_info": {
   "codemirror_mode": {
    "name": "ipython",
    "version": 3
   },
   "file_extension": ".py",
   "mimetype": "text/x-python",
   "name": "python",
   "nbconvert_exporter": "python",
   "pygments_lexer": "ipython3",
   "version": "3.7.7"
  }
 },
 "nbformat": 4,
 "nbformat_minor": 4
}
