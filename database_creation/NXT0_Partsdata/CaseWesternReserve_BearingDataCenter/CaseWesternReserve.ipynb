{
 "cells": [
  {
   "cell_type": "code",
   "execution_count": 3,
   "metadata": {},
   "outputs": [],
   "source": [
    "import scipy.io\n",
    "import numpy\n",
    "import pandas\n",
    "import psycopg2\n",
    "import os.path"
   ]
  },
  {
   "cell_type": "code",
   "execution_count": 7,
   "metadata": {},
   "outputs": [
    {
     "name": "stdout",
     "output_type": "stream",
     "text": [
      "C:\\Users\\MP\\Nextcloud\\Shared\\MP_Masterarbeit_Daten\\NXT0_Partsdata\\CaseWesternReserve_BearingDataCenter\n",
      "        X270_DE_time  X270_FE_time  X270_BA_time\n",
      "0          -0.589130      0.773125     -0.132140\n",
      "1           0.019610      0.524320      0.082366\n",
      "2           0.318138     -0.608145     -0.024987\n",
      "3          -0.403671      0.005136     -0.090494\n",
      "4          -0.334202      0.531922      0.032914\n",
      "...              ...           ...           ...\n",
      "121163     -0.320642     -0.199291      0.073876\n",
      "121164      0.047982     -0.487955     -0.043175\n",
      "121165      0.306873     -0.015409     -0.118539\n",
      "121166     -0.050902      0.155529      0.155035\n",
      "121167     -0.218838     -0.409060      0.056091\n",
      "\n",
      "[121168 rows x 3 columns]\n",
      "        X262_DE_time  X262_FE_time\n",
      "0           0.051749      0.047665\n",
      "1           0.055923      0.047049\n",
      "2           0.068443      0.073553\n",
      "3           0.096821      0.077867\n",
      "4           0.130208      0.061842\n",
      "...              ...           ...\n",
      "130544      0.200320      0.141353\n",
      "130545      0.137720      0.137860\n",
      "130546      0.071781      0.078073\n",
      "130547      0.013355      0.008218\n",
      "130548     -0.040899     -0.042735\n",
      "\n",
      "[130549 rows x 2 columns]\n"
     ]
    },
    {
     "name": "stderr",
     "output_type": "stream",
     "text": [
      "C:\\Users\\MP\\Anaconda3\\lib\\site-packages\\ipykernel_launcher.py:17: DeprecationWarning: The default dtype for empty Series will be 'object' instead of 'float64' in a future version. Specify a dtype explicitly to silence this warning.\n",
      "C:\\Users\\MP\\Anaconda3\\lib\\site-packages\\ipykernel_launcher.py:32: DeprecationWarning: The default dtype for empty Series will be 'object' instead of 'float64' in a future version. Specify a dtype explicitly to silence this warning.\n",
      "C:\\Users\\MP\\Anaconda3\\lib\\site-packages\\ipykernel_launcher.py:45: DeprecationWarning: The default dtype for empty Series will be 'object' instead of 'float64' in a future version. Specify a dtype explicitly to silence this warning.\n"
     ]
    }
   ],
   "source": [
    "\n",
    "#Create base path of the folder\n",
    "folder_path = os.getcwd()\n",
    "\n",
    "# baseline normal proper working bearing\n",
    "# Motor load = 3 HP\n",
    "# Motor speed = 1730rpm\n",
    "# Sample frequency = 12kHz\n",
    "# Why? High variation in bearing data regarding parameterswill make the algorithm more robust\n",
    "\n",
    "#Build overall path\n",
    "#Note that below database name (base4hp1730rpm) should be actually base3hp1730rpm\n",
    "base4hp1730rpm_path = os.path.join(folder_path,\"BearingDataCenter_baseline_MotorLoad(HP3)_MotorSpeed1730rpm.mat\")\n",
    "#Load .mat file. Output = dictionary\n",
    "base4hp1730rpm = scipy.io.loadmat(base4hp1730rpm_path, squeeze_me=True)\n",
    "#Build DataFrame from dictionary with columns of different length\n",
    "df_base4hp1730rpm = pandas.DataFrame(dict([ (k,pandas.Series(v)) for k,v in base4hp1730rpm.items() ]))\n",
    "#Select only important columns that contain sensor data\n",
    "df_base4hp1730rpm = df_base4hp1730rpm.iloc[:,3:5]\n",
    "#df_base4hp1730rpm\n",
    "\n",
    "\n",
    "# Faulty working bearing\n",
    "# Motor load = 0 HP\n",
    "# Motor speed = 1797rpm\n",
    "# Sample frequency = 12kHz\n",
    "# Damaged bearing = Fan end bearing\n",
    "# Fault diameter = 0.021\"\n",
    "# Fault position = Inner Race (IR021_0)\n",
    "FEfault0hp1797rpm_path = os.path.join(folder_path,\"BearingDataCenter_12kFE_FaultDiameter0.021_MotorLoad(HP0)_MotorSpeed1797rpm.mat\")\n",
    "FEfault0hp1797rpm = scipy.io.loadmat(FEfault0hp1797rpm_path, squeeze_me=True)\n",
    "df_FEfault0hp1797rpm = pandas.DataFrame(dict([ (k,pandas.Series(v)) for k,v in FEfault0hp1797rpm.items() ]))\n",
    "df_FEfault0hp1797rpm = df_FEfault0hp1797rpm.iloc[:,3:6]\n",
    "print(df_FEfault0hp1797rpm)\n",
    "\n",
    "# Faulty working bearing\n",
    "# Motor load = 0 HP\n",
    "# Motor speed = 1797rpm\n",
    "# Sample frequency = 48kHz\n",
    "# Damaged bearing = Drive end bearing\n",
    "# Fault diameter = 0.021\"\n",
    "# Fault position = Outer Race @12:00 Opposite\n",
    "DEfault0hp1797rpm_path = os.path.join(folder_path,\"BearingDataCenter_48kDE_FaultDiameter0.021_MotorLoad(HP0)_MotorSpeed1797rpm.mat\")\n",
    "DEfault0hp1797rpm = scipy.io.loadmat(DEfault0hp1797rpm_path, squeeze_me=True)\n",
    "df_DEfault0hp1797rpm = pandas.DataFrame(dict([ (k,pandas.Series(v)) for k,v in DEfault0hp1797rpm.items() ]))\n",
    "df_DEfault0hp1797rpm = df_DEfault0hp1797rpm.iloc[:,3:5]\n",
    "print(df_DEfault0hp1797rpm)"
   ]
  },
  {
   "cell_type": "markdown",
   "metadata": {},
   "source": [
    "#Below an example is provided how to store the decentral data files centrally in a database. Please replace user specific credentials within the '' accordingly."
   ]
  },
  {
   "cell_type": "code",
   "execution_count": 3,
   "metadata": {},
   "outputs": [],
   "source": [
    "# storing all the information\n",
    "database = ''\n",
    "user = ''\n",
    "password = ''\n",
    "# connecting to the database\n",
    "connection = psycopg2.connect(database=database, user=user, password=password)\n",
    "# instantiating the cursor\n",
    "cursor = connection.cursor()"
   ]
  },
  {
   "cell_type": "code",
   "execution_count": 4,
   "metadata": {},
   "outputs": [],
   "source": [
    "import psycopg2\n",
    "from io import StringIO\n",
    "\n",
    "# Connection parameters\n",
    "param_dic = {\n",
    "    \"host\"      : \"\",\n",
    "    \"database\"  : \"\",\n",
    "    \"user\"      : \"\",\n",
    "    \"password\"  : \"\"\n",
    "}\n",
    "\n",
    "#Credit to Naysan Saran. https://naysan.ca/2020/06/21/pandas-to-postgresql-using-psycopg2-copy_from/\n",
    "\n",
    "def connect(params_dic):\n",
    "    \"\"\" Connect to the PostgreSQL database server \"\"\"\n",
    "    conn = None\n",
    "    try:\n",
    "        # connect to the PostgreSQL server\n",
    "        print('Connecting to the PostgreSQL database...')\n",
    "        conn = psycopg2.connect(**params_dic)\n",
    "    except (Exception, psycopg2.DatabaseError) as error:\n",
    "        print(error)\n",
    "        sys.exit(1) \n",
    "    print(\"Connection successful\")\n",
    "    return conn\n",
    "\n",
    "\n",
    "def copy_from_stringio(conn, df, table):\n",
    "    \"\"\"\n",
    "    Here we are going save the dataframe in memory \n",
    "    and use copy_from() to copy it to the table\n",
    "    \"\"\"\n",
    "    # save dataframe to an in memory buffer\n",
    "    buffer = StringIO()\n",
    "    df.to_csv(buffer, index_label='id', header=False)\n",
    "    buffer.seek(0)\n",
    "    \n",
    "    cursor = conn.cursor()\n",
    "    try:\n",
    "        cursor.copy_from(buffer, table, sep=\",\")\n",
    "        conn.commit()\n",
    "    except (Exception, psycopg2.DatabaseError) as error:\n",
    "        \n",
    "        print(\"Error: %s\" % error)\n",
    "        conn.rollback()\n",
    "        cursor.close()\n",
    "        return 1\n",
    "    print(\"copy_from_stringio() done\")\n",
    "    cursor.close()"
   ]
  },
  {
   "cell_type": "code",
   "execution_count": 5,
   "metadata": {},
   "outputs": [
    {
     "name": "stdout",
     "output_type": "stream",
     "text": [
      "Connecting to the PostgreSQL database...\n",
      "Connection successful\n",
      "copy_from_stringio() done\n"
     ]
    }
   ],
   "source": [
    "conn = connect(param_dic) # connect to the database\n",
    "cursor = conn.cursor() # set cursor\n",
    "\n",
    "# CREATE TABLES\n",
    "listS1 = list(base4hp1730rpm.keys()) #use column labels for SQL query\n",
    "string1 = \"CREATE TABLE CWR_base4hp1730rpm (id int, \"+listS1[3]+\" double precision, \"+listS1[4]+\" double precision);\"\n",
    "cursor.execute(string1) #execute SQL query\n",
    "\n",
    "copy_from_stringio(conn, df_base4hp1730rpm, \"CWR_base4hp1730rpm\") # copy the dataframe to SQL\n",
    "conn.close() # close the connection"
   ]
  },
  {
   "cell_type": "code",
   "execution_count": 6,
   "metadata": {},
   "outputs": [
    {
     "name": "stdout",
     "output_type": "stream",
     "text": [
      "Connecting to the PostgreSQL database...\n",
      "Connection successful\n",
      "copy_from_stringio() done\n"
     ]
    }
   ],
   "source": [
    "conn = connect(param_dic) # connect to the database\n",
    "cursor = conn.cursor() # set cursor\n",
    "\n",
    "listS2 = list(FEfault0hp1797rpm.keys())\n",
    "string2 = \"CREATE TABLE CWR_FEfault0hp1797rpm (id int, \"+listS2[3]+\" double precision, \"+listS2[4]+\" double precision, \"+listS2[5]+\" double precision );\"\n",
    "cursor.execute(string2)\n",
    "\n",
    "copy_from_stringio(conn, df_FEfault0hp1797rpm, \"CWR_FEfault0hp1797rpm\") # copy the dataframe to SQL\n",
    "conn.close() # close the connection"
   ]
  },
  {
   "cell_type": "code",
   "execution_count": 8,
   "metadata": {},
   "outputs": [
    {
     "name": "stdout",
     "output_type": "stream",
     "text": [
      "Connecting to the PostgreSQL database...\n",
      "Connection successful\n",
      "copy_from_stringio() done\n"
     ]
    }
   ],
   "source": [
    "conn = connect(param_dic) # connect to the database\n",
    "cursor = conn.cursor() # set cursor\n",
    "\n",
    "listS3 = list(DEfault0hp1797rpm.keys())\n",
    "string3 = \"CREATE TABLE CWR_DEfault0hp1797rpm (id int, \"+listS3[3]+\" double precision, \"+listS3[4]+\" double precision);\"\n",
    "cursor.execute(string3)\n",
    "\n",
    "copy_from_stringio(conn, df_DEfault0hp1797rpm, \"CWR_DEfault0hp1797rpm\") # copy the dataframe to SQL\n",
    "conn.close() # close the connection"
   ]
  },
  {
   "cell_type": "code",
   "execution_count": null,
   "metadata": {},
   "outputs": [],
   "source": [
    "'''# COPY INTO TABLES\n",
    "copy_from_stringio(conn, df_base4hp1730rpm, \"CWR_base4hp1730rpm\") # copy the dataframe to SQL\n",
    "copy_from_stringio(conn, df_FEfault0hp1797rpm, \"CWR_FEfault0hp1797rpm\") # copy the dataframe to SQL\n",
    "copy_from_stringio(conn, df_DEfault0hp1797rpm, \"CWR_DEfault0hp1797rpm\") # copy the dataframe to SQL\n",
    "conn.close() # close the connection'''"
   ]
  }
 ],
 "metadata": {
  "kernelspec": {
   "display_name": "Python 3",
   "language": "python",
   "name": "python3"
  },
  "language_info": {
   "codemirror_mode": {
    "name": "ipython",
    "version": 3
   },
   "file_extension": ".py",
   "mimetype": "text/x-python",
   "name": "python",
   "nbconvert_exporter": "python",
   "pygments_lexer": "ipython3",
   "version": "3.8.5"
  }
 },
 "nbformat": 4,
 "nbformat_minor": 4
}
