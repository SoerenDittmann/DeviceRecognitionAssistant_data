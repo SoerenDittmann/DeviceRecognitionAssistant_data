{
 "cells": [
  {
   "cell_type": "code",
   "execution_count": 3,
   "metadata": {},
   "outputs": [],
   "source": [
    "import numpy as np\n",
    "import pandas as pd\n",
    "import psycopg2\n",
    "import os"
   ]
  },
  {
   "cell_type": "code",
   "execution_count": 4,
   "metadata": {},
   "outputs": [
    {
     "name": "stdout",
     "output_type": "stream",
     "text": [
      "      Hour  Minute  Second  µ_second  Horizontal_acceleration  \\\n",
      "0        9      47      49   65664.0                    0.115   \n",
      "1        9      47      49   65703.0                   -0.061   \n",
      "2        9      47      49   65742.0                   -0.019   \n",
      "3        9      47      49   65781.0                    0.034   \n",
      "4        9      47      49   65820.0                    0.126   \n",
      "...    ...     ...     ...       ...                      ...   \n",
      "2555     9      47      49  165470.0                    0.273   \n",
      "2556     9      47      49  165510.0                   -0.023   \n",
      "2557     9      47      49  165550.0                   -0.372   \n",
      "2558     9      47      49  165580.0                   -0.117   \n",
      "2559     9      47      49  165620.0                   -0.216   \n",
      "\n",
      "      Vertical_acceleration  \n",
      "0                     0.364  \n",
      "1                    -0.080  \n",
      "2                    -0.609  \n",
      "3                     0.271  \n",
      "4                    -0.011  \n",
      "...                     ...  \n",
      "2555                 -0.385  \n",
      "2556                  0.357  \n",
      "2557                 -0.197  \n",
      "2558                 -0.133  \n",
      "2559                  0.264  \n",
      "\n",
      "[2560 rows x 6 columns]\n",
      "     Hour  Minute  Second  X0_x_second  Rtd_sensor\n",
      "0      10      29      47            5      112.34\n",
      "1      10      29      47            6      112.34\n",
      "2      10      29      47            7      112.34\n",
      "3      10      29      47            8      112.34\n",
      "4      10      29      47            9      112.34\n",
      "..    ...     ...     ...          ...         ...\n",
      "595    10      30      47            0      112.42\n",
      "596    10      30      47            1      112.42\n",
      "597    10      30      47            2      112.42\n",
      "598    10      30      47            3      112.42\n",
      "599    10      30      47            4      112.42\n",
      "\n",
      "[600 rows x 5 columns]\n"
     ]
    }
   ],
   "source": [
    "#conditions1 (1800 rpm, 4000 N)\n",
    "\n",
    "cwd = os.getcwd()\n",
    "path1 = os.path.join(cwd,r'Bearing1_1\\acc_00050.csv')\n",
    "\n",
    "column_labels1 = ['Hour','Minute','Second','µ_second', 'Horizontal_acceleration', 'Vertical_acceleration'] #determine column labels\n",
    "acc_c1 = pd.read_csv(path1,names=column_labels1)\n",
    "print(acc_c1)\n",
    "\n",
    "path2 = os.path.join(cwd,r'Bearing1_1\\temp_00050.csv')\n",
    "column_labels2 = ['Hour','Minute','Second','X0_x_second', 'Rtd_sensor']\n",
    "temp_c1 = pd.read_csv(path2,names=column_labels2)\n",
    "print(temp_c1)"
   ]
  },
  {
   "cell_type": "code",
   "execution_count": 33,
   "metadata": {},
   "outputs": [],
   "source": [
    "    import psycopg2\n",
    "    from io import StringIO\n",
    "\n",
    "    # Connection parameters\n",
    "    param_dic = {\n",
    "        \"host\"      : \"localhost\",\n",
    "        \"database\"  : \"sensordata\",\n",
    "        \"user\"      : \"postgres\",\n",
    "        \"password\"  : \"JNt8hSW4l+MJ]p;.g[WG\"\n",
    "    }\n",
    "\n",
    "    #Credit to Naysan Saran. https://naysan.ca/2020/06/21/pandas-to-postgresql-using-psycopg2-copy_from/\n",
    "\n",
    "    def connect(params_dic):\n",
    "        \"\"\" Connect to the PostgreSQL database server \"\"\"\n",
    "        conn = None\n",
    "        try:\n",
    "            # connect to the PostgreSQL server\n",
    "            print('Connecting to the PostgreSQL database...')\n",
    "            conn = psycopg2.connect(**params_dic)\n",
    "        except (Exception, psycopg2.DatabaseError) as error:\n",
    "            print(error)\n",
    "            sys.exit(1) \n",
    "        print(\"Connection successful\")\n",
    "        return conn\n",
    "\n",
    "\n",
    "    def copy_from_stringio(conn, df, table):\n",
    "        \"\"\"\n",
    "        Here we are going save the dataframe in memory \n",
    "        and use copy_from() to copy it to the table\n",
    "        \"\"\"\n",
    "        # save dataframe to an in memory buffer\n",
    "        buffer = StringIO()\n",
    "        df.to_csv(buffer, index_label='id', header=False)\n",
    "        buffer.seek(0)\n",
    "\n",
    "        cursor = conn.cursor()\n",
    "        try:\n",
    "            cursor.copy_from(buffer, table, sep=\",\")\n",
    "            conn.commit()\n",
    "        except (Exception, psycopg2.DatabaseError) as error:\n",
    "\n",
    "            print(\"Error: %s\" % error)\n",
    "            conn.rollback()\n",
    "            cursor.close()\n",
    "            return 1\n",
    "        print(\"copy_from_stringio() done\")\n",
    "        cursor.close()"
   ]
  },
  {
   "cell_type": "code",
   "execution_count": 30,
   "metadata": {},
   "outputs": [
    {
     "name": "stdout",
     "output_type": "stream",
     "text": [
      "Connecting to the PostgreSQL database...\n",
      "Connection successful\n",
      "CREATE TABLE FEMTO_ACC_C1 (id int, Hour decimal, Minute decimal, Second decimal, µ_second decimal, Horizontal_acceleration decimal, Vertical_acceleration decimal);\n",
      "copy_from_stringio() done\n"
     ]
    }
   ],
   "source": [
    "conn = connect(param_dic) # connect to the database\n",
    "cursor = conn.cursor() # set cursor\n",
    "\n",
    "# CREATE TABLE\n",
    "list1 = list(acc_c1.keys()) #use column labels for SQL query\n",
    "string1 = \"CREATE TABLE FEMTO_ACC_C1 (id int\"\n",
    "for label in list1:\n",
    "    string1 += (\", \" + label + \" decimal\")\n",
    "string1 = string1 + \");\"\n",
    "print(string1)\n",
    "cursor.execute(string1) #execute SQL query\n",
    "\n",
    "copy_from_stringio(conn, acc_c1, \"FEMTO_ACC_C1\") # copy the dataframe to SQL\n",
    "conn.close() # close the connection"
   ]
  },
  {
   "cell_type": "code",
   "execution_count": 34,
   "metadata": {},
   "outputs": [
    {
     "name": "stdout",
     "output_type": "stream",
     "text": [
      "Connecting to the PostgreSQL database...\n",
      "Connection successful\n",
      "CREATE TABLE FEMTO_TEMP_C1 (id int, Hour decimal, Minute decimal, Second decimal, X0_x_second decimal, Rtd_sensor decimal);\n",
      "copy_from_stringio() done\n"
     ]
    }
   ],
   "source": [
    "conn = connect(param_dic) # connect to the database\n",
    "cursor = conn.cursor() # set cursor\n",
    "\n",
    "# CREATE TABLE\n",
    "list1 = list(temp_c1.keys()) #use column labels for SQL query\n",
    "string1 = \"CREATE TABLE FEMTO_TEMP_C1 (id int\"\n",
    "for label in list1:\n",
    "    string1 += (\", \" + label + \" decimal\")\n",
    "string1 = string1 + \");\"\n",
    "print(string1)\n",
    "cursor.execute(string1) #execute SQL query\n",
    "\n",
    "copy_from_stringio(conn, temp_c1, \"FEMTO_TEMP_C1\") # copy the dataframe to SQL\n",
    "conn.close() # close the connection"
   ]
  },
  {
   "cell_type": "code",
   "execution_count": null,
   "metadata": {},
   "outputs": [],
   "source": []
  }
 ],
 "metadata": {
  "kernelspec": {
   "display_name": "Python 3",
   "language": "python",
   "name": "python3"
  },
  "language_info": {
   "codemirror_mode": {
    "name": "ipython",
    "version": 3
   },
   "file_extension": ".py",
   "mimetype": "text/x-python",
   "name": "python",
   "nbconvert_exporter": "python",
   "pygments_lexer": "ipython3",
   "version": "3.7.7"
  }
 },
 "nbformat": 4,
 "nbformat_minor": 4
}
