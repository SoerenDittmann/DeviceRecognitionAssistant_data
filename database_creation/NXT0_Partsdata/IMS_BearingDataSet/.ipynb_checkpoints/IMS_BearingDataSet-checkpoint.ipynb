{
 "cells": [
  {
   "cell_type": "code",
   "execution_count": 1,
   "metadata": {},
   "outputs": [],
   "source": [
    "import numpy as np\n",
    "import pandas as pd\n",
    "import psycopg2\n",
    "import os"
   ]
  },
  {
   "cell_type": "code",
   "execution_count": null,
   "metadata": {},
   "outputs": [],
   "source": [
    "'''Each data set consists of individual files that are 1-second vibration signal snapshots of 8 sensors each recorded at specific intervals.\n",
    "Each file consists of 20,480 points with the sampling rate set at 20 kHz.\n",
    "File Name: 2003.11.01.18.01'''"
   ]
  },
  {
   "cell_type": "code",
   "execution_count": 2,
   "metadata": {},
   "outputs": [
    {
     "name": "stdout",
     "output_type": "stream",
     "text": [
      "          X1     Y1     X2     Y2     X3     Y3     X4     Y4\n",
      "0     -0.154 -0.090 -0.054 -0.066 -0.002 -0.054 -0.103 -0.264\n",
      "1     -0.112 -0.212 -0.161 -0.098  0.105  0.020 -0.010 -0.198\n",
      "2     -0.032 -0.142 -0.137 -0.115 -0.134 -0.071 -0.156 -0.400\n",
      "3     -0.090 -0.142 -0.078 -0.183 -0.054  0.078 -0.134 -0.005\n",
      "4     -0.120 -0.054 -0.078 -0.112 -0.083 -0.181 -0.415 -0.146\n",
      "...      ...    ...    ...    ...    ...    ...    ...    ...\n",
      "20475 -0.061 -0.183 -0.012 -0.078 -0.310 -0.129 -0.095 -0.083\n",
      "20476 -0.103 -0.144 -0.120 -0.200 -0.254 -0.076 -0.129 -0.039\n",
      "20477 -0.176 -0.120  0.034 -0.110 -0.029  0.000 -0.144  0.024\n",
      "20478 -0.142 -0.127  0.015 -0.112 -0.173 -0.171 -0.164 -0.071\n",
      "20479 -0.137 -0.049 -0.051 -0.054 -0.120 -0.105 -0.115 -0.164\n",
      "\n",
      "[20480 rows x 8 columns]\n"
     ]
    }
   ],
   "source": [
    "#conditions (2000rpm)\n",
    "cwd = os.getcwd()\n",
    "path1 = os.path.join(cwd,r'1st_test\\2003.11.01.18.01.44')\n",
    "\n",
    "column_labels1 = ['X1','Y1','X2','Y2','X3','Y3','X4','Y4'] #determine column labels\n",
    "snapshot1 = pd.read_csv(path1,names=column_labels1, delimiter='\\t')\n",
    "print(snapshot1)"
   ]
  },
  {
   "cell_type": "markdown",
   "metadata": {},
   "source": [
    "#Below an example is provided how to store the decentral data files centrally in a database. Please replace user specific credentials within the '' accordingly."
   ]
  },
  {
   "cell_type": "code",
   "execution_count": 6,
   "metadata": {},
   "outputs": [],
   "source": [
    "    import psycopg2\n",
    "    from io import StringIO\n",
    "\n",
    "    # Connection parameters\n",
    "    param_dic = {\n",
    "        \"host\"      : \"\",\n",
    "        \"database\"  : \"\",\n",
    "        \"user\"      : \"\",\n",
    "        \"password\"  : \"\"\n",
    "    }\n",
    "\n",
    "    #Credit to Naysan Saran. https://naysan.ca/2020/06/21/pandas-to-postgresql-using-psycopg2-copy_from/\n",
    "\n",
    "    def connect(params_dic):\n",
    "        \"\"\" Connect to the PostgreSQL database server \"\"\"\n",
    "        conn = None\n",
    "        try:\n",
    "            # connect to the PostgreSQL server\n",
    "            print('Connecting to the PostgreSQL database...')\n",
    "            conn = psycopg2.connect(**params_dic)\n",
    "        except (Exception, psycopg2.DatabaseError) as error:\n",
    "            print(error)\n",
    "            sys.exit(1) \n",
    "        print(\"Connection successful\")\n",
    "        return conn\n",
    "\n",
    "\n",
    "    def copy_from_stringio(conn, df, table):\n",
    "        \"\"\"\n",
    "        Here we are going save the dataframe in memory \n",
    "        and use copy_from() to copy it to the table\n",
    "        \"\"\"\n",
    "        # save dataframe to an in memory buffer\n",
    "        buffer = StringIO()\n",
    "        df.to_csv(buffer, index_label='id', header=False)\n",
    "        buffer.seek(0)\n",
    "\n",
    "        cursor = conn.cursor()\n",
    "        try:\n",
    "            cursor.copy_from(buffer, table, sep=\",\")\n",
    "            conn.commit()\n",
    "        except (Exception, psycopg2.DatabaseError) as error:\n",
    "\n",
    "            print(\"Error: %s\" % error)\n",
    "            conn.rollback()\n",
    "            cursor.close()\n",
    "            return 1\n",
    "        print(\"copy_from_stringio() done\")\n",
    "        cursor.close()"
   ]
  },
  {
   "cell_type": "code",
   "execution_count": 7,
   "metadata": {},
   "outputs": [
    {
     "name": "stdout",
     "output_type": "stream",
     "text": [
      "Connecting to the PostgreSQL database...\n",
      "Connection successful\n",
      "CREATE TABLE IMS_Bearing (id int, X1 decimal, Y1 decimal, X2 decimal, Y2 decimal, X3 decimal, Y3 decimal, X4 decimal, Y4 decimal);\n",
      "copy_from_stringio() done\n"
     ]
    }
   ],
   "source": [
    "conn = connect(param_dic) # connect to the database\n",
    "cursor = conn.cursor() # set cursor\n",
    "\n",
    "# CREATE TABLE\n",
    "list1 = list(snapshot1.keys()) #use column labels for SQL query\n",
    "string1 = \"CREATE TABLE IMS_Bearing (id int\"\n",
    "for label in list1:\n",
    "    string1 += (\", \" + label + \" decimal\")\n",
    "string1 = string1 + \");\"\n",
    "print(string1)\n",
    "cursor.execute(string1) #execute SQL query\n",
    "\n",
    "copy_from_stringio(conn, snapshot1, \"IMS_Bearing\") # copy the dataframe to SQL\n",
    "conn.close() # close the connection"
   ]
  }
 ],
 "metadata": {
  "kernelspec": {
   "display_name": "Python 3",
   "language": "python",
   "name": "python3"
  },
  "language_info": {
   "codemirror_mode": {
    "name": "ipython",
    "version": 3
   },
   "file_extension": ".py",
   "mimetype": "text/x-python",
   "name": "python",
   "nbconvert_exporter": "python",
   "pygments_lexer": "ipython3",
   "version": "3.8.5"
  }
 },
 "nbformat": 4,
 "nbformat_minor": 4
}
