{
 "cells": [
  {
   "cell_type": "code",
   "execution_count": 2,
   "metadata": {},
   "outputs": [],
   "source": [
    "import numpy as np\n",
    "import pandas as pd\n",
    "import psycopg2\n",
    "import os"
   ]
  },
  {
   "cell_type": "code",
   "execution_count": 3,
   "metadata": {
    "scrolled": true
   },
   "outputs": [
    {
     "name": "stdout",
     "output_type": "stream",
     "text": [
      "          AccelerometerX  AccelerometerY  AccelerometerZ  GyroscopeX  \\\n",
      "sequence                                                               \n",
      "0                      2            -994              11          -8   \n",
      "1                     36            -979              52          -9   \n",
      "2                    -41            -986              32          -9   \n",
      "3                      4            -972              29         -12   \n",
      "4                     17            -987              17          -9   \n",
      "...                  ...             ...             ...         ...   \n",
      "9241                  -9            -983              39         -11   \n",
      "9242                 -12            -979              16         -10   \n",
      "9243                  -1            -975              33         -10   \n",
      "9244                  -4           -1000              33         -10   \n",
      "9245                 -35            -974              23          -9   \n",
      "\n",
      "          GyroscopeY  GyroscopeZ  \n",
      "sequence                          \n",
      "0                 11          19  \n",
      "1                  8          19  \n",
      "2                 12          23  \n",
      "3                 14          18  \n",
      "4                 12          20  \n",
      "...              ...         ...  \n",
      "9241              10          28  \n",
      "9242              12          27  \n",
      "9243               9          24  \n",
      "9244              13          23  \n",
      "9245              11          20  \n",
      "\n",
      "[9246 rows x 6 columns]\n"
     ]
    }
   ],
   "source": [
    "cwd = os.getcwd()\n",
    "path1 = os.path.join(cwd,r'data\\08_12_chris_Balance_20190812T192339.csv')\n",
    "\n",
    "#column_labels1 = ['X1','Y1','X2','Y2','X3','Y3','X4','Y4'] #determine column labels\n",
    "experiment1 = pd.read_csv(path1,index_col = [0])\n",
    "print(experiment1)"
   ]
  },
  {
   "cell_type": "code",
   "execution_count": 4,
   "metadata": {},
   "outputs": [],
   "source": [
    "    import psycopg2\n",
    "    from io import StringIO\n",
    "\n",
    "    # Connection parameters\n",
    "    param_dic = {\n",
    "        \"host\"      : \"localhost\",\n",
    "        \"database\"  : \"sensordata\",\n",
    "        \"user\"      : \"postgres\",\n",
    "        \"password\"  : \"JNt8hSW4l+MJ]p;.g[WG\"\n",
    "    }\n",
    "\n",
    "    #Credit to Naysan Saran. https://naysan.ca/2020/06/21/pandas-to-postgresql-using-psycopg2-copy_from/\n",
    "\n",
    "    def connect(params_dic):\n",
    "        \"\"\" Connect to the PostgreSQL database server \"\"\"\n",
    "        conn = None\n",
    "        try:\n",
    "            # connect to the PostgreSQL server\n",
    "            print('Connecting to the PostgreSQL database...')\n",
    "            conn = psycopg2.connect(**params_dic)\n",
    "        except (Exception, psycopg2.DatabaseError) as error:\n",
    "            print(error)\n",
    "            sys.exit(1) \n",
    "        print(\"Connection successful\")\n",
    "        return conn\n",
    "\n",
    "\n",
    "    def copy_from_stringio(conn, df, table):\n",
    "        \"\"\"\n",
    "        Here we are going save the dataframe in memory \n",
    "        and use copy_from() to copy it to the table\n",
    "        \"\"\"\n",
    "        # save dataframe to an in memory buffer\n",
    "        buffer = StringIO()\n",
    "        df.to_csv(buffer, index_label='id', header=False)\n",
    "        buffer.seek(0)\n",
    "\n",
    "        cursor = conn.cursor()\n",
    "        try:\n",
    "            cursor.copy_from(buffer, table, sep=\",\")\n",
    "            conn.commit()\n",
    "        except (Exception, psycopg2.DatabaseError) as error:\n",
    "\n",
    "            print(\"Error: %s\" % error)\n",
    "            conn.rollback()\n",
    "            cursor.close()\n",
    "            return 1\n",
    "        print(\"copy_from_stringio() done\")\n",
    "        cursor.close()"
   ]
  },
  {
   "cell_type": "code",
   "execution_count": 5,
   "metadata": {},
   "outputs": [
    {
     "name": "stdout",
     "output_type": "stream",
     "text": [
      "Connecting to the PostgreSQL database...\n",
      "Connection successful\n",
      "CREATE TABLE SensiML (id int, AccelerometerX decimal, AccelerometerY decimal, AccelerometerZ decimal, GyroscopeX decimal, GyroscopeY decimal, GyroscopeZ decimal);\n",
      "copy_from_stringio() done\n"
     ]
    }
   ],
   "source": [
    "conn = connect(param_dic) # connect to the database\n",
    "cursor = conn.cursor() # set cursor\n",
    "\n",
    "# CREATE TABLE\n",
    "list1 = list(experiment1.keys()) #use column labels for SQL query\n",
    "string1 = \"CREATE TABLE SensiML (id int\"\n",
    "for label in list1:\n",
    "    string1 += (\", \" + label + \" decimal\")\n",
    "string1 = string1 + \");\"\n",
    "print(string1)\n",
    "cursor.execute(string1) #execute SQL query\n",
    "\n",
    "copy_from_stringio(conn, experiment1, \"SensiML\") # copy the dataframe to SQL\n",
    "conn.close() # close the connection"
   ]
  }
 ],
 "metadata": {
  "kernelspec": {
   "display_name": "Python 3",
   "language": "python",
   "name": "python3"
  },
  "language_info": {
   "codemirror_mode": {
    "name": "ipython",
    "version": 3
   },
   "file_extension": ".py",
   "mimetype": "text/x-python",
   "name": "python",
   "nbconvert_exporter": "python",
   "pygments_lexer": "ipython3",
   "version": "3.7.7"
  }
 },
 "nbformat": 4,
 "nbformat_minor": 4
}
